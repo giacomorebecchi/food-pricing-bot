{
 "cells": [
  {
   "cell_type": "code",
   "execution_count": 1,
   "metadata": {},
   "outputs": [],
   "source": [
    "from food_pricing_bot.utils.storage import get_latest_dump_path, get_df, get_dump_path\n",
    "from food_pricing_bot.bot import PLAY_REGEX\n",
    "import pandas as pd\n",
    "import numpy as np\n",
    "import re\n",
    "from typing import Union\n",
    "from sklearn.metrics import mean_squared_error"
   ]
  },
  {
   "cell_type": "code",
   "execution_count": 2,
   "metadata": {},
   "outputs": [
    {
     "name": "stdout",
     "output_type": "stream",
     "text": [
      "^(?P<YoN>Sì!|No.)|\\D*(?P<int>\\d+)\\D*(?P<dec>\\d{0,2})\\D*$\n"
     ]
    }
   ],
   "source": [
    "print(PLAY_REGEX)\n",
    "\n",
    "def get_fractional_price(s: str) -> Union[int, None]:\n",
    "    match = re.match(PLAY_REGEX, s)\n",
    "    \n",
    "    if match is None:\n",
    "        return None\n",
    "    \n",
    "    d = match.groupdict()\n",
    "    if d.get(\"int\") is None or d.get(\"dec\") is None:\n",
    "        return None\n",
    "    elif d[\"int\"] and d[\"dec\"] == \"\":\n",
    "        return int(d[\"int\"]) * 100\n",
    "    else:\n",
    "        try:\n",
    "            return int(d[\"int\"]) * 100 + int(d[\"dec\"])\n",
    "        except ValueError:\n",
    "            return None\n",
    "\n",
    "assert get_fractional_price(\"€4.50\") == 450\n",
    "assert get_fractional_price(\"2,50\") == 250\n",
    "assert get_fractional_price(\"ciao\") == None"
   ]
  },
  {
   "cell_type": "code",
   "execution_count": 3,
   "metadata": {},
   "outputs": [
    {
     "name": "stdout",
     "output_type": "stream",
     "text": [
      "The latest dump is located at: /home/ubuntu/Documents/thesis/food-pricing/data/experiment/answers/2022-09-02T10:39:24.921300+00:00.jsonl\n"
     ]
    }
   ],
   "source": [
    "fpath = get_latest_dump_path()\n",
    "print(f\"The latest dump is located at: {fpath}\")"
   ]
  },
  {
   "cell_type": "code",
   "execution_count": 4,
   "metadata": {},
   "outputs": [
    {
     "name": "stdout",
     "output_type": "stream",
     "text": [
      "There is a total of 0 unrecognised answers.\n"
     ]
    },
    {
     "data": {
      "text/html": [
       "<div>\n",
       "<style scoped>\n",
       "    .dataframe tbody tr th:only-of-type {\n",
       "        vertical-align: middle;\n",
       "    }\n",
       "\n",
       "    .dataframe tbody tr th {\n",
       "        vertical-align: top;\n",
       "    }\n",
       "\n",
       "    .dataframe thead th {\n",
       "        text-align: right;\n",
       "    }\n",
       "</style>\n",
       "<table border=\"1\" class=\"dataframe\">\n",
       "  <thead>\n",
       "    <tr style=\"text-align: right;\">\n",
       "      <th></th>\n",
       "      <th>chat_id</th>\n",
       "      <th>item_id</th>\n",
       "      <th>answer</th>\n",
       "      <th>pred</th>\n",
       "    </tr>\n",
       "  </thead>\n",
       "  <tbody>\n",
       "    <tr>\n",
       "      <th>0</th>\n",
       "      <td>1131376373</td>\n",
       "      <td>milano_milano-bocconi-navigli_lele-ristorante_40</td>\n",
       "      <td>25.0</td>\n",
       "      <td>2500</td>\n",
       "    </tr>\n",
       "    <tr>\n",
       "      <th>1</th>\n",
       "      <td>1131376373</td>\n",
       "      <td>milano_milano-morivione_deb-minimarket_411</td>\n",
       "      <td>4.0</td>\n",
       "      <td>400</td>\n",
       "    </tr>\n",
       "    <tr>\n",
       "      <th>2</th>\n",
       "      <td>1131376373</td>\n",
       "      <td>milano_milano-bocconi-navigli_midelizio_18</td>\n",
       "      <td>4.0</td>\n",
       "      <td>400</td>\n",
       "    </tr>\n",
       "    <tr>\n",
       "      <th>3</th>\n",
       "      <td>1131376373</td>\n",
       "      <td>civitanova-marche_civitanova-marche_lowengrube...</td>\n",
       "      <td>18.0</td>\n",
       "      <td>1800</td>\n",
       "    </tr>\n",
       "    <tr>\n",
       "      <th>4</th>\n",
       "      <td>1131376373</td>\n",
       "      <td>bologna_san-lazzaro_american-cake-dk-san-lazza...</td>\n",
       "      <td>6.0</td>\n",
       "      <td>600</td>\n",
       "    </tr>\n",
       "  </tbody>\n",
       "</table>\n",
       "</div>"
      ],
      "text/plain": [
       "      chat_id                                            item_id answer  pred\n",
       "0  1131376373   milano_milano-bocconi-navigli_lele-ristorante_40   25.0  2500\n",
       "1  1131376373         milano_milano-morivione_deb-minimarket_411    4.0   400\n",
       "2  1131376373         milano_milano-bocconi-navigli_midelizio_18    4.0   400\n",
       "3  1131376373  civitanova-marche_civitanova-marche_lowengrube...   18.0  1800\n",
       "4  1131376373  bologna_san-lazzaro_american-cake-dk-san-lazza...    6.0   600"
      ]
     },
     "execution_count": 4,
     "metadata": {},
     "output_type": "execute_result"
    }
   ],
   "source": [
    "# transform the answers in a format ready to be joined\n",
    "\n",
    "df = pd.read_json(fpath, lines=True)\n",
    "df.head()\n",
    "df[\"data\"] = df[\"data\"].apply(lambda data: [(k, v) for k, v in data.items()])\n",
    "df = df.explode(\"data\", ignore_index=True)\n",
    "df[\"item_id\"], df[\"answer\"], df[\"pred\"] = zip(\n",
    "    *df[\"data\"].apply(lambda data: (data[0], data[1], get_fractional_price(data[1])))\n",
    ")\n",
    "df.drop(columns=[\"data\"], inplace=True)\n",
    "print(f\"There is a total of {df['pred'].isna().sum()} unrecognised answers.\")\n",
    "df = df[~df[\"pred\"].isna()]\n",
    "df.head()"
   ]
  },
  {
   "cell_type": "code",
   "execution_count": 5,
   "metadata": {},
   "outputs": [],
   "source": [
    "# get the fact table\n",
    "\n",
    "fact_df = get_df(split=\"test\")"
   ]
  },
  {
   "cell_type": "code",
   "execution_count": 6,
   "metadata": {},
   "outputs": [
    {
     "data": {
      "text/html": [
       "<div>\n",
       "<style scoped>\n",
       "    .dataframe tbody tr th:only-of-type {\n",
       "        vertical-align: middle;\n",
       "    }\n",
       "\n",
       "    .dataframe tbody tr th {\n",
       "        vertical-align: top;\n",
       "    }\n",
       "\n",
       "    .dataframe thead th {\n",
       "        text-align: right;\n",
       "    }\n",
       "</style>\n",
       "<table border=\"1\" class=\"dataframe\">\n",
       "  <thead>\n",
       "    <tr style=\"text-align: right;\">\n",
       "      <th></th>\n",
       "      <th>chat_id</th>\n",
       "      <th>item_id</th>\n",
       "      <th>answer</th>\n",
       "      <th>pred</th>\n",
       "      <th>imgPath</th>\n",
       "      <th>price_fractional</th>\n",
       "      <th>lat</th>\n",
       "      <th>lon</th>\n",
       "      <th>txt</th>\n",
       "      <th>split</th>\n",
       "    </tr>\n",
       "  </thead>\n",
       "  <tbody>\n",
       "    <tr>\n",
       "      <th>0</th>\n",
       "      <td>1131376373</td>\n",
       "      <td>milano_milano-bocconi-navigli_lele-ristorante_40</td>\n",
       "      <td>25.0</td>\n",
       "      <td>2500</td>\n",
       "      <td>food-delivery-crawler/data/images/deliveroo.it...</td>\n",
       "      <td>3200.0</td>\n",
       "      <td>45.464194</td>\n",
       "      <td>9.189635</td>\n",
       "      <td>Filetto di manzo con tartufo nero</td>\n",
       "      <td>test</td>\n",
       "    </tr>\n",
       "    <tr>\n",
       "      <th>1</th>\n",
       "      <td>1131376373</td>\n",
       "      <td>milano_milano-morivione_deb-minimarket_411</td>\n",
       "      <td>4.0</td>\n",
       "      <td>400</td>\n",
       "      <td>food-delivery-crawler/data/images/deliveroo.it...</td>\n",
       "      <td>230.0</td>\n",
       "      <td>45.440601</td>\n",
       "      <td>9.190522</td>\n",
       "      <td>Chiodi di garofano 50ge</td>\n",
       "      <td>test</td>\n",
       "    </tr>\n",
       "    <tr>\n",
       "      <th>2</th>\n",
       "      <td>1131376373</td>\n",
       "      <td>milano_milano-bocconi-navigli_midelizio_18</td>\n",
       "      <td>4.0</td>\n",
       "      <td>400</td>\n",
       "      <td>food-delivery-crawler/data/images/deliveroo.it...</td>\n",
       "      <td>350.0</td>\n",
       "      <td>45.464194</td>\n",
       "      <td>9.189635</td>\n",
       "      <td>Lurisia Gazzosa 27,5cl</td>\n",
       "      <td>test</td>\n",
       "    </tr>\n",
       "    <tr>\n",
       "      <th>3</th>\n",
       "      <td>1131376373</td>\n",
       "      <td>civitanova-marche_civitanova-marche_lowengrube...</td>\n",
       "      <td>18.0</td>\n",
       "      <td>1800</td>\n",
       "      <td>food-delivery-crawler/data/images/deliveroo.it...</td>\n",
       "      <td>650.0</td>\n",
       "      <td>43.305523</td>\n",
       "      <td>13.722930</td>\n",
       "      <td>Brezel speck burro e obazda Tipico pane bavare...</td>\n",
       "      <td>test</td>\n",
       "    </tr>\n",
       "    <tr>\n",
       "      <th>4</th>\n",
       "      <td>1131376373</td>\n",
       "      <td>bologna_san-lazzaro_american-cake-dk-san-lazza...</td>\n",
       "      <td>6.0</td>\n",
       "      <td>600</td>\n",
       "      <td>food-delivery-crawler/data/images/deliveroo.it...</td>\n",
       "      <td>590.0</td>\n",
       "      <td>44.480569</td>\n",
       "      <td>11.424369</td>\n",
       "      <td>Fabolous cake Goloso gioco di consistenze - so...</td>\n",
       "      <td>test</td>\n",
       "    </tr>\n",
       "  </tbody>\n",
       "</table>\n",
       "</div>"
      ],
      "text/plain": [
       "      chat_id                                            item_id answer  pred  \\\n",
       "0  1131376373   milano_milano-bocconi-navigli_lele-ristorante_40   25.0  2500   \n",
       "1  1131376373         milano_milano-morivione_deb-minimarket_411    4.0   400   \n",
       "2  1131376373         milano_milano-bocconi-navigli_midelizio_18    4.0   400   \n",
       "3  1131376373  civitanova-marche_civitanova-marche_lowengrube...   18.0  1800   \n",
       "4  1131376373  bologna_san-lazzaro_american-cake-dk-san-lazza...    6.0   600   \n",
       "\n",
       "                                             imgPath  price_fractional  \\\n",
       "0  food-delivery-crawler/data/images/deliveroo.it...            3200.0   \n",
       "1  food-delivery-crawler/data/images/deliveroo.it...             230.0   \n",
       "2  food-delivery-crawler/data/images/deliveroo.it...             350.0   \n",
       "3  food-delivery-crawler/data/images/deliveroo.it...             650.0   \n",
       "4  food-delivery-crawler/data/images/deliveroo.it...             590.0   \n",
       "\n",
       "         lat        lon                                                txt  \\\n",
       "0  45.464194   9.189635                 Filetto di manzo con tartufo nero    \n",
       "1  45.440601   9.190522                           Chiodi di garofano 50ge    \n",
       "2  45.464194   9.189635                            Lurisia Gazzosa 27,5cl    \n",
       "3  43.305523  13.722930  Brezel speck burro e obazda Tipico pane bavare...   \n",
       "4  44.480569  11.424369  Fabolous cake Goloso gioco di consistenze - so...   \n",
       "\n",
       "  split  \n",
       "0  test  \n",
       "1  test  \n",
       "2  test  \n",
       "3  test  \n",
       "4  test  "
      ]
     },
     "execution_count": 6,
     "metadata": {},
     "output_type": "execute_result"
    }
   ],
   "source": [
    "# merge the two dfs on item_id\n",
    "\n",
    "df_merged = pd.merge(left=df, right=fact_df, how=\"left\", on=\"item_id\")\n",
    "df_merged.head()"
   ]
  },
  {
   "cell_type": "code",
   "execution_count": 7,
   "metadata": {},
   "outputs": [],
   "source": [
    "merged_fpath = get_dump_path(fname=\"dump.parquet\", folder=\"merged\")\n",
    "df_merged.to_parquet(merged_fpath)"
   ]
  }
 ],
 "metadata": {
  "kernelspec": {
   "display_name": "Python 3.10.4 ('food-pricing-bot--z7whW_u-py3.10')",
   "language": "python",
   "name": "python3"
  },
  "language_info": {
   "codemirror_mode": {
    "name": "ipython",
    "version": 3
   },
   "file_extension": ".py",
   "mimetype": "text/x-python",
   "name": "python",
   "nbconvert_exporter": "python",
   "pygments_lexer": "ipython3",
   "version": "3.10.4"
  },
  "orig_nbformat": 4,
  "vscode": {
   "interpreter": {
    "hash": "7b8966b891c33189864827c8abb42da26ce333a3993629c2e4a3b203178a5211"
   }
  }
 },
 "nbformat": 4,
 "nbformat_minor": 2
}
